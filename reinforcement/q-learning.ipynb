{
 "cells": [
  {
   "cell_type": "markdown",
   "metadata": {},
   "source": [
    "## openAI gym使い方概要(テスト)\n",
    " - 1.環境の生成:gym.make(環境名)\n",
    " - 2.環境をリセットして観測データ（状態）を取得\n",
    " - 3.状態から行動を決定←アルゴリズム\n",
    " - 4.行動を実施して、行動後の観測データ（状態）と報酬を取得env.step(行動)\n",
    " - 5.今の行動を報酬から評価する←アルゴリズム\n",
    " \n",
    " →３〜５を繰り返す"
   ]
  },
  {
   "cell_type": "code",
   "execution_count": 1,
   "metadata": {
    "collapsed": true
   },
   "outputs": [],
   "source": [
    "import gym\n",
    "from gym import wrappers\n",
    "import numpy as np\n",
    "import time"
   ]
  },
  {
   "cell_type": "markdown",
   "metadata": {},
   "source": [
    "### OpenAI Gym基礎コマンド\n"
   ]
  },
  {
   "cell_type": "code",
   "execution_count": 4,
   "metadata": {},
   "outputs": [
    {
     "ename": "NameError",
     "evalue": "name 'action' is not defined",
     "output_type": "error",
     "traceback": [
      "\u001b[0;31m---------------------------------------------------------------------------\u001b[0m",
      "\u001b[0;31mNameError\u001b[0m                                 Traceback (most recent call last)",
      "\u001b[0;32m<ipython-input-4-73ddaf1f2587>\u001b[0m in \u001b[0;36m<module>\u001b[0;34m()\u001b[0m\n\u001b[1;32m      6\u001b[0m \u001b[0menv\u001b[0m\u001b[0;34m.\u001b[0m\u001b[0mrender\u001b[0m\u001b[0;34m(\u001b[0m\u001b[0;34m)\u001b[0m\u001b[0;34m\u001b[0m\u001b[0m\n\u001b[1;32m      7\u001b[0m \u001b[0;31m#行動の実行\u001b[0m\u001b[0;34m\u001b[0m\u001b[0;34m\u001b[0m\u001b[0m\n\u001b[0;32m----> 8\u001b[0;31m \u001b[0mobservation\u001b[0m\u001b[0;34m,\u001b[0m\u001b[0mreward\u001b[0m\u001b[0;34m,\u001b[0m\u001b[0mdone\u001b[0m\u001b[0;34m,\u001b[0m\u001b[0minfo\u001b[0m \u001b[0;34m=\u001b[0m \u001b[0menv\u001b[0m\u001b[0;34m.\u001b[0m\u001b[0mstep\u001b[0m\u001b[0;34m(\u001b[0m\u001b[0maction\u001b[0m\u001b[0;34m)\u001b[0m\u001b[0;34m\u001b[0m\u001b[0m\n\u001b[0m",
      "\u001b[0;31mNameError\u001b[0m: name 'action' is not defined"
     ]
    }
   ],
   "source": [
    "env = gym.make(\"MountainCar-v0\")\n",
    "#環境の初期化\n",
    "#resetで環境状態の観測データobservationが取得できる\n",
    "obs = env.reset()\n",
    "#描画\n",
    "env.render()\n",
    "#行動の実行\n",
    "observation,reward,done,info = env.step(action)"
   ]
  },
  {
   "cell_type": "code",
   "execution_count": 5,
   "metadata": {},
   "outputs": [
    {
     "name": "stdout",
     "output_type": "stream",
     "text": [
      "[-0.57086364  0.        ]\n",
      "[-1.2  -0.07] [0.6  0.07]\n"
     ]
    }
   ],
   "source": [
    "#第一成分は車の位置（X座標）、第二成分は車の速度\n",
    "#変域は、第一成分が-1.2~0.6,第二成分は0~0.07\n",
    "#ベクトルの成分の最小値、最大値はenv.obserbation_space.low,env.observation_space.highで確認できる\n",
    "print(obs)\n",
    "print(env.observation_space.low,env.observation_space.high)"
   ]
  },
  {
   "cell_type": "code",
   "execution_count": 7,
   "metadata": {},
   "outputs": [
    {
     "name": "stdout",
     "output_type": "stream",
     "text": [
      "Discrete(3)\n"
     ]
    }
   ],
   "source": [
    "#選択可能な行動\n",
    "#0:左に行く、1:何もしない、2:右に行く\n",
    "print(env.action_space)#離散値"
   ]
  },
  {
   "cell_type": "code",
   "execution_count": 20,
   "metadata": {},
   "outputs": [
    {
     "name": "stdout",
     "output_type": "stream",
     "text": [
      "[-0.62992694 -0.01628399]\n",
      "-1.0\n",
      "False\n",
      "{}\n"
     ]
    },
    {
     "data": {
      "text/plain": [
       "True"
      ]
     },
     "execution_count": 20,
     "metadata": {},
     "output_type": "execute_result"
    }
   ],
   "source": [
    "#env.step(action)を実行すると、次の状態、報酬、次の状態が終端かどうか(bool)、デバッグ用の情報\n",
    "#報酬は、車の位置(obsの第一成分)が0.5未満なら−1、0.5以上なら0\n",
    "#doneは車の位置が0.5以上、200ステップ以上でTrue\n",
    "\n",
    "next_obs,reward,done,info = env.step(0)\n",
    "print(next_obs)\n",
    "print(reward)\n",
    "print(done)\n",
    "print(info)\n",
    "env.render()"
   ]
  },
  {
   "cell_type": "code",
   "execution_count": null,
   "metadata": {
    "collapsed": true
   },
   "outputs": [],
   "source": [
    "#Q関数の離散化\n",
    "#観測した状態を離散値に変換\n",
    "def bins(clip_min,clip_max,num):\n",
    "    return np.linspace(clip_min,clip_max,num+1)[1:-1]"
   ]
  },
  {
   "cell_type": "code",
   "execution_count": null,
   "metadata": {},
   "outputs": [],
   "source": []
  }
 ],
 "metadata": {
  "kernelspec": {
   "display_name": "Python 3",
   "language": "python",
   "name": "python3"
  },
  "language_info": {
   "codemirror_mode": {
    "name": "ipython",
    "version": 3
   },
   "file_extension": ".py",
   "mimetype": "text/x-python",
   "name": "python",
   "nbconvert_exporter": "python",
   "pygments_lexer": "ipython3",
   "version": "3.6.5"
  }
 },
 "nbformat": 4,
 "nbformat_minor": 2
}
